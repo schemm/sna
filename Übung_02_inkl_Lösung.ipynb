{
 "cells": [
  {
   "cell_type": "markdown",
   "metadata": {},
   "source": [
    "# Übung 2\n",
    "# Arbeit mit Netzwerk-Datensätzen & Starke und Schwache Verbindungen\n",
    "\n",
    "Laden Sie sich den Datensatz zur Studie der Freundschaftsbeziehungen innerhalb eines Karate-Clubs von Wayne Zachary von diesem [Link](http://moreno.ss.uci.edu/data.html#zachary) herunter. \n",
    "\n",
    "Richten Sie sich eine Java-Entwicklungsumgebung mit folgenden Alternativen ein:\n",
    "\n",
    "1. Nutzen Sie die unter diesem [Link](https://github.com/schemm/sna) bereitgestellte Entwicklungsumgebung in Form eines [*Jupyter*](https://jupyter.org/) Notebooks. \n",
    "2. Nutzen Sie eine lokale Entwicklungsumgebung Ihrer Wahl. \n",
    "\n",
    "In beiden Fällen binden Sie bitte die folgenden Bibliotheken ein:\n",
    "* [*JGraphT*](https://jgrapht.org)\n",
    "* [*XChart*](https://knowm.org/open-source/xchart/)\n",
    "\n",
    "Installieren Sie sich den Grapheneditor [*yEd*](https://www.yworks.com/products/yed).\n",
    "\n",
    "Bearbeiten Sie die folgenden Aufgaben in Java unter Nutzung der eingebundenen Bibliotheken. Hilfestellungen bieten die Online-Dokumentationen der Bibliotheken sowie folgendes Beispiel:  [HelloWorld](https://github.com/schemm/sna/blob/master/HelloWorld.ipynb)."
   ]
  },
  {
   "cell_type": "markdown",
   "metadata": {},
   "source": [
    "## Lade Bibliotheken"
   ]
  },
  {
   "cell_type": "markdown",
   "metadata": {},
   "source": [
    "### JGraphT"
   ]
  },
  {
   "cell_type": "code",
   "execution_count": 11,
   "metadata": {},
   "outputs": [],
   "source": [
    "%%loadFromPOM\n",
    "<dependency>\n",
    "    <groupId>org.jgrapht</groupId>\n",
    "    <artifactId>jgrapht-core</artifactId>\n",
    "    <version>1.3.1</version>\n",
    "</dependency>\n",
    "<dependency>\n",
    "    <groupId>org.jgrapht</groupId>\n",
    "    <artifactId>jgrapht-io</artifactId>\n",
    "    <version>1.3.1</version>\n",
    "</dependency>"
   ]
  },
  {
   "cell_type": "markdown",
   "metadata": {},
   "source": [
    "### XChart"
   ]
  },
  {
   "cell_type": "code",
   "execution_count": 12,
   "metadata": {},
   "outputs": [],
   "source": [
    "%%loadFromPOM\n",
    "<dependency>\n",
    "    <groupId>org.knowm.xchart</groupId>\n",
    "    <artifactId>xchart</artifactId>\n",
    "    <version>3.6.0</version>\n",
    "</dependency>"
   ]
  },
  {
   "cell_type": "markdown",
   "metadata": {},
   "source": [
    "## Aufgabe 1\n",
    "\n",
    "Importieren Sie den Datensatz als Graph und geben Sie den Graphen anschließend über die Standardausgabe via *System.out.println()* aus. Verwenden Sie die gewichtete Variante des Datensatzes. \n",
    "\n",
    "\n",
    "> *Tipps*\n",
    "> \n",
    "> Verwenden Sie die folgenden Klassen bzw. Methoden:\n",
    "> * CSVImporter\n",
    "> * CSVImporter.importGraph(Graph\\<V,E> graph, Reader input)\n",
    "> * CSVImporter.setDelimiter(char delimiter)\n",
    "> * CSVImporter.setFormat(CSVFormat format)\n",
    "> * CSVImporter.setParameter(CSVFormat.Parameter p, boolean value)\n",
    "> * FileReader\n",
    "> \n",
    "> Dokumentationen zu diesen finden Sie in den [Javadocs zu JGraphT](https://jgrapht.org/javadoc/). \t\n",
    "> Verwenden Sie für den Import die beiden unten implementierten Objekte der Klassen *VertexProvider* und *EdgeProvider*."
   ]
  },
  {
   "cell_type": "code",
   "execution_count": 13,
   "metadata": {},
   "outputs": [],
   "source": [
    "import org.jgrapht.*;\n",
    "import org.jgrapht.graph.*;\n",
    "import org.jgrapht.io.*;\n",
    "\n",
    "VertexProvider<String> vertexProvider = new VertexProvider<String>() {\n",
    "    @Override\n",
    "    public String buildVertex(String id, Map<String, Attribute> attributes) {\n",
    "        return id;\n",
    "    }\n",
    "};\n",
    "\n",
    "EdgeProvider<String, DefaultWeightedEdge> edgeProvider = new EdgeProvider<String, DefaultWeightedEdge>() {\n",
    "    @Override\n",
    "    public DefaultWeightedEdge buildEdge(String from, String to, String label, Map<String, Attribute> attributes) {\n",
    "        return new DefaultWeightedEdge();\n",
    "    }\n",
    "};"
   ]
  },
  {
   "cell_type": "code",
   "execution_count": 14,
   "metadata": {},
   "outputs": [
    {
     "name": "stdout",
     "output_type": "stream",
     "text": [
      "([1, 2, 3, 4, 5, 6, 7, 8, 9, 10, 11, 12, 13, 14, 15, 16, 17, 18, 19, 20, 21, 22, 23, 24, 25, 26, 27, 28, 29, 30, 31, 32, 33, 34], [{1,2}, {1,3}, {1,4}, {1,5}, {1,6}, {1,7}, {1,8}, {1,9}, {1,11}, {1,12}, {1,13}, {1,14}, {1,18}, {1,20}, {1,22}, {1,32}, {2,3}, {2,4}, {2,8}, {2,14}, {2,18}, {2,20}, {2,22}, {2,31}, {3,4}, {3,8}, {3,9}, {3,10}, {3,14}, {3,28}, {3,29}, {3,33}, {4,8}, {4,13}, {4,14}, {5,7}, {5,11}, {6,7}, {6,11}, {6,17}, {7,17}, {9,31}, {9,33}, {9,34}, {10,34}, {14,34}, {15,33}, {15,34}, {16,33}, {16,34}, {19,33}, {19,34}, {20,34}, {21,33}, {21,34}, {23,33}, {23,34}, {24,26}, {24,28}, {24,30}, {24,33}, {24,34}, {25,26}, {25,28}, {25,32}, {26,32}, {27,30}, {27,34}, {28,34}, {29,32}, {29,34}, {30,33}, {30,34}, {31,33}, {31,34}, {32,33}, {32,34}, {33,34}])\n"
     ]
    }
   ],
   "source": [
    "import org.jgrapht.*;\n",
    "import org.jgrapht.graph.*;\n",
    "import org.jgrapht.io.*;\n",
    "\n",
    "SimpleWeightedGraph<String, DefaultWeightedEdge> g = new SimpleWeightedGraph<>(DefaultWeightedEdge.class);\n",
    "\n",
    "CSVImporter<String, DefaultWeightedEdge> importer = new CSVImporter<>(vertexProvider, edgeProvider);\n",
    "importer.setFormat(CSVFormat.MATRIX);\n",
    "importer.setParameter(CSVFormat.Parameter.EDGE_WEIGHTS, true);\n",
    "importer.setParameter(CSVFormat.Parameter.MATRIX_FORMAT_ZERO_WHEN_NO_EDGE, true);\n",
    "importer.setDelimiter(' ');\n",
    "\n",
    "try {\n",
    "\n",
    "    FileReader fr = new FileReader(\"zachary_weighted.csv\");\n",
    "    importer.importGraph(g, fr);\n",
    "\n",
    "    System.out.println(g.toString());\n",
    "\n",
    "} catch (Exception e) {\n",
    "    e.printStackTrace();\n",
    "}"
   ]
  },
  {
   "cell_type": "markdown",
   "metadata": {},
   "source": [
    "## Aufgabe 2\n",
    "\n",
    "Geben Sie für jede Person im Netzwerk den Grad aus. \n",
    "\n",
    "> *Tipps*\n",
    "> \n",
    "> Verwenden Sie eine geeignete Methode der Klasse *Graph*. Dokumentationen zu dieser finden Sie in den [Javadocs zu JGraphT](https://jgrapht.org/javadoc/). "
   ]
  },
  {
   "cell_type": "code",
   "execution_count": 15,
   "metadata": {},
   "outputs": [
    {
     "name": "stdout",
     "output_type": "stream",
     "text": [
      "1 : 16\n",
      "2 : 9\n",
      "3 : 10\n",
      "4 : 6\n",
      "5 : 3\n",
      "6 : 4\n",
      "7 : 4\n",
      "8 : 4\n",
      "9 : 5\n",
      "10 : 2\n",
      "11 : 3\n",
      "12 : 1\n",
      "13 : 2\n",
      "14 : 5\n",
      "15 : 2\n",
      "16 : 2\n",
      "17 : 2\n",
      "18 : 2\n",
      "19 : 2\n",
      "20 : 3\n",
      "21 : 2\n",
      "22 : 2\n",
      "23 : 2\n",
      "24 : 5\n",
      "25 : 3\n",
      "26 : 3\n",
      "27 : 2\n",
      "28 : 4\n",
      "29 : 3\n",
      "30 : 4\n",
      "31 : 4\n",
      "32 : 6\n",
      "33 : 12\n",
      "34 : 17\n"
     ]
    }
   ],
   "source": [
    "Set<String> nodes = g.vertexSet();\n",
    "for(String node : nodes) {\n",
    "    System.out.println(node + \" : \" + g.degreeOf(node));\t\t\n",
    "}"
   ]
  },
  {
   "cell_type": "markdown",
   "metadata": {},
   "source": [
    "## Aufgabe 3\n",
    "\n",
    "Berechnen Sie den Grad des Netzwerks und geben sie diesen aus. "
   ]
  },
  {
   "cell_type": "code",
   "execution_count": 16,
   "metadata": {},
   "outputs": [
    {
     "name": "stdout",
     "output_type": "stream",
     "text": [
      "4.588235294117647\n"
     ]
    }
   ],
   "source": [
    "double average_degree = 0;\n",
    "\n",
    "for(String node : nodes) {\n",
    "    average_degree += g.degreeOf(node);\n",
    "}\n",
    "\n",
    "average_degree = average_degree / nodes.size();\n",
    "\n",
    "System.out.println(average_degree);"
   ]
  },
  {
   "cell_type": "markdown",
   "metadata": {},
   "source": [
    "## Aufgabe 4\n",
    "\n",
    "Stellen Sie die Grad-Verteilung des Netzwerks in Form eines Diagramms dar. \n",
    "\n",
    "> *Tipps*\n",
    "> \n",
    "> Verwenden Sie *XChart* analog dem Beispiel [HelloWorld](https://github.com/schemm/sna/blob/master/HelloWorld.ipynb) zur \n",
    "> graphischen Darstellung der Verteilung. Weitere Code-Beispiele zur Verwendung von *XChart* finden Sie bspw. [hier](https://knowm.org/open-source/xchart/xchart-example-code/). \t"
   ]
  },
  {
   "cell_type": "code",
   "execution_count": 17,
   "metadata": {
    "scrolled": true
   },
   "outputs": [
    {
     "data": {
      "image/png": "[encoded data removed]",
      "text/plain": [
       "BufferedImage@51742979: type = 1 DirectColorModel: rmask=ff0000 gmask=ff00 bmask=ff amask=0 IntegerInterleavedRaster: width = 800 height = 400 #Bands = 3 xOff = 0 yOff = 0 dataOffset[0] 0"
      ]
     },
     "execution_count": 17,
     "metadata": {},
     "output_type": "execute_result"
    }
   ],
   "source": [
    "import org.knowm.xchart.*;\n",
    "import org.knowm.xchart.style.markers.SeriesMarkers;\n",
    "import org.knowm.xchart.style.lines.SeriesLines;\n",
    "\n",
    "double[] xData = new double[nodes.size()-1];\n",
    "double[] yData = new double[nodes.size()-1];\n",
    "\n",
    "for(int i=0; i<=nodes.size()-2; i++) {\n",
    "    xData[i] = i;\n",
    "    yData[i] = 0;\n",
    "}\n",
    "\n",
    "for(String node : nodes) {\n",
    "    yData[g.degreeOf(node)]++;\n",
    "}\n",
    "\n",
    "for(int i=0; i<=nodes.size()-2; i++) {\n",
    "    yData[i] = yData[i]/nodes.size();\n",
    "}\n",
    "\n",
    "XYChart chart = new XYChart(800,400);\n",
    "chart.setTitle(\"Gradverteilung\");\n",
    "chart.setXAxisTitle(\"k\");\n",
    "chart.setYAxisTitle(\"p(k)\");\n",
    "XYSeries series = chart.addSeries(\"p(k)\", xData, yData);\n",
    "series.setMarker(SeriesMarkers.CIRCLE);\n",
    "series.setLineStyle(SeriesLines.NONE);\n",
    "\n",
    "BitmapEncoder.getBufferedImage(chart);"
   ]
  },
  {
   "cell_type": "markdown",
   "metadata": {},
   "source": [
    "## Aufgabe 5\n",
    "\n",
    "Exportieren Sie den Graphen in das Dateiformat *GML*. Visualisierung Sie den Graph anschliessend mit dem Grapheneditor [*yEd*](https://www.yworks.com/products/yed).\n",
    "\n",
    "> *Tipps*\n",
    "> \n",
    "> Nutzen Sie zum Export die Klasse *GmlExporter*. Setzen Sie mit der Methode\n",
    "> *GmlExporter.setParameter(GmlExporter.Parameter p, boolean value)* geeignete\n",
    "> Parameter, um bspw. die Knotenbezeichnungen und Kantengewichte mit zu exportieren.\n",
    "> \n",
    "> Experimentieren Sie mit verschiedenen Layouts um eine übersichtliche Darstellung\n",
    "> des Netzwerks zu erhalten. "
   ]
  },
  {
   "cell_type": "code",
   "execution_count": 18,
   "metadata": {},
   "outputs": [],
   "source": [
    "GmlExporter exporter = new GmlExporter();\n",
    "    exporter.setParameter(GmlExporter.Parameter.EXPORT_EDGE_WEIGHTS, true);\n",
    "    exporter.setParameter(GmlExporter.Parameter.EXPORT_VERTEX_LABELS, true);\n",
    "\n",
    "try {\n",
    "    exporter.exportGraph(g, new FileWriter(\"graph.gml\"));\n",
    "    \n",
    "} catch (Exception e) {\n",
    "    e.printStackTrace();\n",
    "}"
   ]
  },
  {
   "cell_type": "markdown",
   "metadata": {},
   "source": [
    "## Aufgabe 6\n",
    "\n",
    "Betrachten Sie Ihre Darstellung des Netzwerks und beantworten Sie die folgenden Fragen:\n",
    "\n",
    "1. Was ist die *embededdness* der Kante E-F? \n",
    "2. Was ist der *neighborhood overlap* der Kante E-F?\n",
    "3. Was ist die *embededdness* der Kante E-G?\n",
    "4. Was ist der *neighborhood overlap* der Kante E-G?"
   ]
  },
  {
   "cell_type": "markdown",
   "metadata": {},
   "source": [
    "1.: 2\n",
    "2.: 0,5\n",
    "3.: 0\n",
    "4.: 0"
   ]
  },
  {
   "cell_type": "markdown",
   "metadata": {},
   "source": [
    "## Aufgabe 7\n",
    "\n",
    "Berechnen Sie den *neighbourhood overlap* für alle Kanten des Netzwerks. Stellen Sie anschliessend die Beziehung zwischen Gewicht und *neighbourhood overlap* graphisch dar. \n",
    "\n",
    "> *Tipps*\n",
    "> \n",
    "> Verwenden Sie geeignete Methoden der Klasse *Graph*. Dokumentationen zu dieser\n",
    "> finden Sie in den [Javadocs zu JGraphT](https://jgrapht.org/javadoc/). \t\n",
    "> \n",
    "> Zur Ermittlung der Mengen an Nachbarn der Kantenendpunkte eignen sich bspw. die\n",
    "> folgenden Klassen und Methoden: \n",
    "> * HashSet\n",
    "> * HashSet.addAll(Collection c)\n",
    "> * HashSet.retainAll(Collection c)\n",
    "> \n",
    "> Verwenden Sie *XChart* analog dem Beispiel [HelloWorld](https://github.com/schemm/sna/blob/master/HelloWorld.ipynb) zur \n",
    "> graphischen Darstellung der Verteilung. Weitere Code-Beispiele zur Verwendung von *XChart* finden Sie bspw. [hier](https://knowm.org/open-source/xchart/xchart-example-code/). "
   ]
  },
  {
   "cell_type": "code",
   "execution_count": 19,
   "metadata": {},
   "outputs": [
    {
     "name": "stdout",
     "output_type": "stream",
     "text": [
      "(1 : 2) : 4.0\n",
      "(1 : 3) : 5.0\n",
      "(1 : 4) : 3.0\n",
      "(1 : 5) : 3.0\n",
      "(1 : 6) : 3.0\n",
      "(1 : 7) : 3.0\n",
      "(1 : 8) : 2.0\n",
      "(1 : 9) : 2.0\n",
      "(1 : 11) : 2.0\n",
      "(1 : 12) : 3.0\n",
      "(1 : 13) : 1.0\n",
      "(1 : 14) : 3.0\n",
      "(1 : 18) : 2.0\n",
      "(1 : 20) : 2.0\n",
      "(1 : 22) : 2.0\n",
      "(1 : 32) : 2.0\n",
      "(2 : 3) : 6.0\n",
      "(2 : 4) : 3.0\n",
      "(2 : 8) : 4.0\n",
      "(2 : 14) : 5.0\n",
      "(2 : 18) : 1.0\n",
      "(2 : 20) : 2.0\n",
      "(2 : 22) : 2.0\n",
      "(2 : 31) : 2.0\n",
      "(3 : 4) : 3.0\n",
      "(3 : 8) : 4.0\n",
      "(3 : 9) : 5.0\n",
      "(3 : 10) : 1.0\n",
      "(3 : 14) : 3.0\n",
      "(3 : 28) : 2.0\n",
      "(3 : 29) : 2.0\n",
      "(3 : 33) : 2.0\n",
      "(4 : 8) : 3.0\n",
      "(4 : 13) : 3.0\n",
      "(4 : 14) : 3.0\n",
      "(5 : 7) : 2.0\n",
      "(5 : 11) : 3.0\n",
      "(6 : 7) : 5.0\n",
      "(6 : 11) : 3.0\n",
      "(6 : 17) : 3.0\n",
      "(7 : 17) : 3.0\n",
      "(9 : 31) : 3.0\n",
      "(9 : 33) : 3.0\n",
      "(9 : 34) : 4.0\n",
      "(10 : 34) : 2.0\n",
      "(14 : 34) : 3.0\n",
      "(15 : 33) : 3.0\n",
      "(15 : 34) : 2.0\n",
      "(16 : 33) : 3.0\n",
      "(16 : 34) : 4.0\n",
      "(19 : 33) : 1.0\n",
      "(19 : 34) : 2.0\n",
      "(20 : 34) : 1.0\n",
      "(21 : 33) : 3.0\n",
      "(21 : 34) : 1.0\n",
      "(23 : 33) : 2.0\n",
      "(23 : 34) : 3.0\n",
      "(24 : 26) : 5.0\n",
      "(24 : 28) : 4.0\n",
      "(24 : 30) : 3.0\n",
      "(24 : 33) : 5.0\n",
      "(24 : 34) : 4.0\n",
      "(25 : 26) : 2.0\n",
      "(25 : 28) : 3.0\n",
      "(25 : 32) : 2.0\n",
      "(26 : 32) : 7.0\n",
      "(27 : 30) : 4.0\n",
      "(27 : 34) : 2.0\n",
      "(28 : 34) : 4.0\n",
      "(29 : 32) : 2.0\n",
      "(29 : 34) : 2.0\n",
      "(30 : 33) : 4.0\n",
      "(30 : 34) : 2.0\n",
      "(31 : 33) : 3.0\n",
      "(31 : 34) : 3.0\n",
      "(32 : 33) : 4.0\n",
      "(32 : 34) : 4.0\n",
      "(33 : 34) : 5.0\n",
      "{(2 : 3)=0.26666666666666666, (3 : 29)=0.0, (9 : 31)=0.2857142857142857, (14 : 34)=0.0, (10 : 34)=0.0, (1 : 12)=0.0, (7 : 17)=0.2, (1 : 2)=0.3888888888888889, (1 : 7)=0.1111111111111111, (15 : 34)=0.05555555555555555, (1 : 6)=0.1111111111111111, (26 : 32)=0.125, (19 : 34)=0.05555555555555555, (3 : 33)=0.047619047619047616, (2 : 8)=0.3, (16 : 34)=0.05555555555555555, (25 : 28)=0.0, (3 : 4)=0.3333333333333333, (20 : 34)=0.0, (1 : 11)=0.11764705882352941, (2 : 18)=0.1, (1 : 14)=0.16666666666666666, (1 : 5)=0.11764705882352941, (4 : 14)=0.375, (19 : 33)=0.07692307692307693, (23 : 34)=0.05555555555555555, (1 : 3)=0.23809523809523808, (29 : 32)=0.125, (2 : 14)=0.2727272727272727, (3 : 10)=0.0, (25 : 26)=0.2, (1 : 20)=0.05555555555555555, (9 : 34)=0.1, (24 : 34)=0.15789473684210525, (1 : 18)=0.058823529411764705, (32 : 34)=0.09523809523809523, (25 : 32)=0.125, (21 : 33)=0.07692307692307693, (31 : 33)=0.14285714285714285, (6 : 11)=0.16666666666666666, (29 : 34)=0.05263157894736842, (30 : 33)=0.14285714285714285, (24 : 28)=0.125, (1 : 13)=0.058823529411764705, (4 : 13)=0.14285714285714285, (31 : 34)=0.10526315789473684, (30 : 34)=0.16666666666666666, (1 : 8)=0.17647058823529413, (6 : 7)=0.3333333333333333, (6 : 17)=0.2, (1 : 4)=0.29411764705882354, (3 : 28)=0.0, (23 : 33)=0.07692307692307693, (2 : 4)=0.36363636363636365, (1 : 22)=0.058823529411764705, (27 : 30)=0.2, (33 : 34)=0.5263157894736842, (2 : 31)=0.0, (5 : 7)=0.16666666666666666, (15 : 33)=0.07692307692307693, (24 : 33)=0.13333333333333333, (32 : 33)=0.058823529411764705, (3 : 14)=0.25, (4 : 8)=0.42857142857142855, (24 : 26)=0.0, (5 : 11)=0.2, (3 : 9)=0.15384615384615385, (24 : 30)=0.2857142857142857, (9 : 33)=0.21428571428571427, (16 : 33)=0.07692307692307693, (1 : 9)=0.05, (27 : 34)=0.05555555555555555, (2 : 22)=0.1, (2 : 20)=0.09090909090909091, (3 : 8)=0.2727272727272727, (1 : 32)=0.0, (21 : 34)=0.05555555555555555, (28 : 34)=0.05}\n"
     ]
    },
    {
     "data": {
      "image/png": "[encoded data removed]",
      "text/plain": [
       "BufferedImage@6abf950b: type = 1 DirectColorModel: rmask=ff0000 gmask=ff00 bmask=ff amask=0 IntegerInterleavedRaster: width = 800 height = 400 #Bands = 3 xOff = 0 yOff = 0 dataOffset[0] 0"
      ]
     },
     "execution_count": 19,
     "metadata": {},
     "output_type": "execute_result"
    }
   ],
   "source": [
    "Set<DefaultWeightedEdge> edges = g.edgeSet();\n",
    "for(DefaultWeightedEdge edge: edges) {\n",
    "    System.out.println(edge.toString() + \" : \" + g.getEdgeWeight(edge));\n",
    "}\n",
    "\n",
    "HashMap<DefaultWeightedEdge, Double> NeighbourhoodOverlap = new HashMap<DefaultWeightedEdge, Double>();\n",
    "\n",
    "for(DefaultWeightedEdge edge: edges) {\n",
    "    String a = g.getEdgeSource(edge);\n",
    "    String b = g.getEdgeTarget(edge);\n",
    "\n",
    "    Set<String> neighbours_of_a = Graphs.neighborSetOf(g, a);\n",
    "    Set<String> neighbours_of_b = Graphs.neighborSetOf(g, b);\n",
    "\n",
    "    Set<String> neighbours_of_a_and_b = new HashSet<>();\n",
    "    neighbours_of_a_and_b.addAll(neighbours_of_a);\n",
    "    neighbours_of_a_and_b.retainAll(neighbours_of_b);\n",
    "    double numerator = neighbours_of_a_and_b.size();\n",
    "\n",
    "    Set<String> neighbours_of_a_or_b = new HashSet<>();\n",
    "    neighbours_of_a_or_b.addAll(neighbours_of_a);\n",
    "    neighbours_of_a_or_b.addAll(neighbours_of_b);\n",
    "    neighbours_of_a_or_b.remove(a);\n",
    "    neighbours_of_a_or_b.remove(b);\n",
    "    double denominator = neighbours_of_a_or_b.size();\n",
    "    \n",
    "    NeighbourhoodOverlap.put(edge, Double.valueOf(numerator/denominator));\n",
    "}\n",
    "\n",
    "System.out.println(NeighbourhoodOverlap.toString());\n",
    "\n",
    "double[] tieStrength = new double[edges.size()];\n",
    "double[] neighbourhoodOverlap = new double[edges.size()];\n",
    "\n",
    "int j=0;\n",
    "for(DefaultWeightedEdge edge : edges) {\n",
    "    tieStrength[j] = g.getEdgeWeight(edge);\n",
    "    neighbourhoodOverlap[j] = NeighbourhoodOverlap.get(edge).doubleValue();\n",
    "    j++;\n",
    "}\n",
    "\n",
    "chart = new XYChart(800,400);\n",
    "chart.setTitle(\"Strengths of weak ties\");\n",
    "chart.setXAxisTitle(\"tie strength\");\n",
    "chart.setYAxisTitle(\"neighbourhood overlap\");\n",
    "series = chart.addSeries(\"neighbourhood overlap\", tieStrength, neighbourhoodOverlap);\n",
    "series.setMarker(SeriesMarkers.CIRCLE);\n",
    "series.setLineStyle(SeriesLines.NONE);\n",
    "\n",
    "BitmapEncoder.getBufferedImage(chart);"
   ]
  },
  {
   "cell_type": "code",
   "execution_count": null,
   "metadata": {},
   "outputs": [],
   "source": []
  }
 ],
 "metadata": {
  "kernelspec": {
   "display_name": "Java",
   "language": "java",
   "name": "java"
  },
  "language_info": {
   "codemirror_mode": "java",
   "file_extension": ".jshell",
   "mimetype": "text/x-java-source",
   "name": "Java",
   "pygments_lexer": "java",
   "version": "11.0.3+7"
  }
 },
 "nbformat": 4,
 "nbformat_minor": 2
}
