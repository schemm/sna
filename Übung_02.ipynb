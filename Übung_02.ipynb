{
 "cells": [
  {
   "cell_type": "markdown",
   "metadata": {},
   "source": [
    "# Übung 2\n",
    "# Arbeit mit Netzwerk-Datensätzen & Starke und Schwache Verbindungen\n",
    "\n",
    "Laden Sie sich den Datensatz zur Studie der Freundschaftsbeziehungen innerhalb eines Karate-Clubs von Wayne Zachary von diesem [Link](http://moreno.ss.uci.edu/data.html#zachary) herunter. \n",
    "\n",
    "Richten Sie sich eine Java-Entwicklungsumgebung mit folgenden Alternativen ein:\n",
    "\n",
    "1. Nutzen Sie die unter diesem [Link](https://github.com/schemm/sna) bereitgestellte Entwicklungsumgebung in Form eines [*Jupyter*](https://jupyter.org/) Notebooks. \n",
    "2. Nutzen Sie eine lokale Entwicklungsumgebung Ihrer Wahl. \n",
    "\n",
    "In beiden Fällen binden Sie bitte die folgenden Bibliotheken ein:\n",
    "* [*JGraphT*](https://jgrapht.org)\n",
    "* [*XChart*](https://knowm.org/open-source/xchart/)\n",
    "\n",
    "Installieren Sie sich den Grapheneditor [*yEd*](https://www.yworks.com/products/yed).\n",
    "\n",
    "Bearbeiten Sie die folgenden Aufgaben in Java unter Nutzung der eingebundenen Bibliotheken. Hilfestellungen bieten die Online-Dokumentationen der Bibliotheken sowie folgendes Beispiel:  [HelloWorld](http://htmlpreview.github.io/?https://github.com/schemm/sna/blob/master/HelloWorld.html)."
   ]
  },
  {
   "cell_type": "markdown",
   "metadata": {},
   "source": [
    "## Lade Bibliotheken"
   ]
  },
  {
   "cell_type": "markdown",
   "metadata": {},
   "source": [
    "### JGraphT"
   ]
  },
  {
   "cell_type": "code",
   "execution_count": 1,
   "metadata": {},
   "outputs": [],
   "source": [
    "%%loadFromPOM\n",
    "<dependency>\n",
    "    <groupId>org.jgrapht</groupId>\n",
    "    <artifactId>jgrapht-core</artifactId>\n",
    "    <version>1.3.1</version>\n",
    "</dependency>\n",
    "<dependency>\n",
    "    <groupId>org.jgrapht</groupId>\n",
    "    <artifactId>jgrapht-io</artifactId>\n",
    "    <version>1.3.1</version>\n",
    "</dependency>"
   ]
  },
  {
   "cell_type": "markdown",
   "metadata": {},
   "source": [
    "### XChart"
   ]
  },
  {
   "cell_type": "code",
   "execution_count": 2,
   "metadata": {},
   "outputs": [],
   "source": [
    "%%loadFromPOM\n",
    "<dependency>\n",
    "    <groupId>org.knowm.xchart</groupId>\n",
    "    <artifactId>xchart</artifactId>\n",
    "    <version>3.6.0</version>\n",
    "</dependency>"
   ]
  },
  {
   "cell_type": "markdown",
   "metadata": {},
   "source": [
    "## Aufgabe 1\n",
    "\n",
    "Importieren Sie den Datensatz als Graph und geben Sie den Graphen anschließend über die Standardausgabe via *System.out.println()* aus. Verwenden Sie die gewichtete Variante des Datensatzes. \n",
    "\n",
    "\n",
    "> *Tipps*\n",
    "> \n",
    "> Verwenden Sie die folgenden Klassen bzw. Methoden:\n",
    "> * CSVImporter\n",
    "> * CSVImporter.importGraph(Graph\\<V,E> graph, Reader input)\n",
    "> * CSVImporter.setDelimiter(char delimiter)\n",
    "> * CSVImporter.setFormat(CSVFormat format)\n",
    "> * CSVImporter.setParameter(CSVFormat.Parameter p, boolean value)\n",
    "> * FileReader\n",
    "> \n",
    "> Dokumentationen zu diesen finden Sie in den [Javadocs zu JGraphT](https://jgrapht.org/javadoc/). \t\n",
    "> Verwenden Sie für den Import die beiden unten implementierten Objekte der Klassen *VertexProvider* und *EdgeProvider*."
   ]
  },
  {
   "cell_type": "code",
   "execution_count": 3,
   "metadata": {},
   "outputs": [],
   "source": [
    "import org.jgrapht.*;\n",
    "import org.jgrapht.graph.*;\n",
    "import org.jgrapht.io.*;\n",
    "\n",
    "VertexProvider<String> vertexProvider = new VertexProvider<String>() {\n",
    "    @Override\n",
    "    public String buildVertex(String id, Map<String, Attribute> attributes) {\n",
    "        return id;\n",
    "    }\n",
    "};\n",
    "\n",
    "EdgeProvider<String, DefaultWeightedEdge> edgeProvider = new EdgeProvider<String, DefaultWeightedEdge>() {\n",
    "    @Override\n",
    "    public DefaultWeightedEdge buildEdge(String from, String to, String label, Map<String, Attribute> attributes) {\n",
    "        return new DefaultWeightedEdge();\n",
    "    }\n",
    "};"
   ]
  },
  {
   "cell_type": "code",
   "execution_count": null,
   "metadata": {},
   "outputs": [],
   "source": []
  },
  {
   "cell_type": "markdown",
   "metadata": {},
   "source": [
    "## Aufgabe 2\n",
    "\n",
    "Geben Sie für jede Person im Netzwerk den Grad aus. \n",
    "\n",
    "> *Tipps*\n",
    "> \n",
    "> Verwenden Sie geeignete Methoden der Klasse *Graph*. Dokumentationen zu dieser finden Sie in den [Javadocs zu JGraphT](https://jgrapht.org/javadoc/). "
   ]
  },
  {
   "cell_type": "code",
   "execution_count": null,
   "metadata": {},
   "outputs": [],
   "source": []
  },
  {
   "cell_type": "markdown",
   "metadata": {},
   "source": [
    "## Aufgabe 3\n",
    "\n",
    "Berechnen Sie den Grad des Netzwerks und geben sie diesen aus. "
   ]
  },
  {
   "cell_type": "code",
   "execution_count": null,
   "metadata": {},
   "outputs": [],
   "source": []
  },
  {
   "cell_type": "markdown",
   "metadata": {},
   "source": [
    "## Aufgabe 4\n",
    "\n",
    "Stellen Sie die Grad-Verteilung des Netzwerks in Form eines Diagramms dar. \n",
    "\n",
    "> *Tipps*\n",
    "> \n",
    "> Verwenden Sie *XChart* analog dem Beispiel [HelloWorld](http://htmlpreview.github.io/?https://github.com/schemm/sna/blob/master/HelloWorld.html) zur \n",
    "> graphischen Darstellung der Verteilung. Weitere Code-Beispiele zur Verwendung von *XChart* finden Sie bspw. [hier](https://knowm.org/open-source/xchart/xchart-example-code/). \t"
   ]
  },
  {
   "cell_type": "code",
   "execution_count": null,
   "metadata": {
    "scrolled": true
   },
   "outputs": [],
   "source": []
  },
  {
   "cell_type": "markdown",
   "metadata": {},
   "source": [
    "## Aufgabe 5\n",
    "\n",
    "Exportieren Sie den Graphen in das Dateiformat *GML*. Visualisierung Sie den Graph anschliessend mit dem Grapheneditor [*yEd*](https://www.yworks.com/products/yed).\n",
    "\n",
    "> *Tipps*\n",
    "> \n",
    "> Nutzen Sie zum Export die Klasse *GmlExporter*. Setzen Sie mit der Methode\n",
    "> *GmlExporter.setParameter(GmlExporter.Parameter p, boolean value)* geeignete\n",
    "> Parameter, um bspw. die Knotenbezeichnungen und Kantengewichte mit zu exportieren.\n",
    "> \n",
    "> Experimentieren Sie mit verschiedenen Layouts um eine übersichtliche Darstellung\n",
    "> des Netzwerks zu erhalten. "
   ]
  },
  {
   "cell_type": "code",
   "execution_count": null,
   "metadata": {},
   "outputs": [],
   "source": []
  },
  {
   "cell_type": "markdown",
   "metadata": {},
   "source": [
    "## Aufgabe 6\n",
    "\n",
    "Betrachten Sie Ihre Darstellung des Netzwerks und beantworten Sie die folgenden Fragen:\n",
    "\n",
    "1. Was ist die *embededdness* der Kante 6-7? \n",
    "2. Was ist der *neighborhood overlap* der Kante 6-7?\n",
    "3. Was ist die *embededdness* der Kante 25-28?\n",
    "4. Was ist der *neighborhood overlap* der Kante 25-28?"
   ]
  },
  {
   "cell_type": "markdown",
   "metadata": {},
   "source": []
  },
  {
   "cell_type": "markdown",
   "metadata": {},
   "source": [
    "## Aufgabe 7\n",
    "\n",
    "Berechnen Sie den *neighbourhood overlap* für alle Kanten des Netzwerks. Stellen Sie anschliessend die Beziehung zwischen Gewicht und *neighbourhood overlap* graphisch dar. \n",
    "\n",
    "> *Tipps*\n",
    "> \n",
    "> Verwenden Sie geeignete Methoden der Klasse *Graph*. Dokumentationen zu dieser\n",
    "> finden Sie in den [Javadocs zu JGraphT](https://jgrapht.org/javadoc/). \t\n",
    "> \n",
    "> Zur Ermittlung der Mengen an Nachbarn der Kantenendpunkte eignen sich bspw. die\n",
    "> folgenden Klassen und Methoden: \n",
    "> * HashSet\n",
    "> * HashSet.addAll(Collection c)\n",
    "> * HashSet.retainAll(Collection c)\n",
    "> \n",
    "> Verwenden Sie *XChart* analog dem Beispiel [HelloWorld](http://htmlpreview.github.io/?https://github.com/schemm/sna/blob/master/HelloWorld.html) zur \n",
    "> graphischen Darstellung der Verteilung. Weitere Code-Beispiele zur Verwendung von *XChart* finden Sie bspw. [hier](https://knowm.org/open-source/xchart/xchart-example-code/). "
   ]
  },
  {
   "cell_type": "code",
   "execution_count": null,
   "metadata": {},
   "outputs": [],
   "source": []
  }
 ],
 "metadata": {
  "kernelspec": {
   "display_name": "Java",
   "language": "java",
   "name": "java"
  },
  "language_info": {
   "codemirror_mode": "java",
   "file_extension": ".jshell",
   "mimetype": "text/x-java-source",
   "name": "Java",
   "pygments_lexer": "java",
   "version": "11.0.3+7"
  }
 },
 "nbformat": 4,
 "nbformat_minor": 2
}
