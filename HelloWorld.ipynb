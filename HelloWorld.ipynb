{
 "cells": [
  {
   "cell_type": "markdown",
   "metadata": {},
   "source": [
    "# Hello World\n",
    "\n",
    "## Load Dependencies"
   ]
  },
  {
   "cell_type": "markdown",
   "metadata": {},
   "source": [
    "### JGraphT"
   ]
  },
  {
   "cell_type": "code",
   "execution_count": 1,
   "metadata": {},
   "outputs": [],
   "source": [
    "%%loadFromPOM\n",
    "<dependency>\n",
    "    <groupId>org.jgrapht</groupId>\n",
    "    <artifactId>jgrapht-core</artifactId>\n",
    "    <version>1.3.1</version>\n",
    "</dependency>\n",
    "<dependency>\n",
    "    <groupId>org.jgrapht</groupId>\n",
    "    <artifactId>jgrapht-io</artifactId>\n",
    "    <version>1.3.1</version>\n",
    "</dependency>"
   ]
  },
  {
   "cell_type": "markdown",
   "metadata": {},
   "source": [
    "### XChart"
   ]
  },
  {
   "cell_type": "code",
   "execution_count": 2,
   "metadata": {},
   "outputs": [],
   "source": [
    "%%loadFromPOM\n",
    "<dependency>\n",
    "    <groupId>org.knowm.xchart</groupId>\n",
    "    <artifactId>xchart</artifactId>\n",
    "    <version>3.6.0</version>\n",
    "</dependency>"
   ]
  },
  {
   "cell_type": "markdown",
   "metadata": {},
   "source": [
    "## Hello JGrapht"
   ]
  },
  {
   "cell_type": "code",
   "execution_count": 3,
   "metadata": {},
   "outputs": [
    {
     "name": "stdout",
     "output_type": "stream",
     "text": [
      "([http://www.google.com, http://www.wikipedia.org, http://www.jgrapht.org], [(http://www.jgrapht.org,http://www.wikipedia.org), (http://www.google.com,http://www.jgrapht.org), (http://www.google.com,http://www.wikipedia.org), (http://www.wikipedia.org,http://www.google.com)])\n"
     ]
    }
   ],
   "source": [
    "import org.jgrapht.*;\n",
    "import org.jgrapht.graph.*;\n",
    "import org.jgrapht.traverse.*;\n",
    "\n",
    "import java.io.*;\n",
    "import java.net.*;\n",
    "import java.util.*;\n",
    "\n",
    "Graph<URI, DefaultEdge> g = new DefaultDirectedGraph<>(DefaultEdge.class);\n",
    "\n",
    "URI google = new URI(\"http://www.google.com\");\n",
    "URI wikipedia = new URI(\"http://www.wikipedia.org\");\n",
    "URI jgrapht = new URI(\"http://www.jgrapht.org\");\n",
    "\n",
    "// add the vertices\n",
    "g.addVertex(google);\n",
    "g.addVertex(wikipedia);\n",
    "g.addVertex(jgrapht);\n",
    "\n",
    "// add edges to create linking structure\n",
    "g.addEdge(jgrapht, wikipedia);\n",
    "g.addEdge(google, jgrapht);\n",
    "g.addEdge(google, wikipedia);\n",
    "g.addEdge(wikipedia, google);\n",
    "\n",
    "System.out.println(g.toString());"
   ]
  },
  {
   "cell_type": "markdown",
   "metadata": {},
   "source": [
    "## Hello XChart"
   ]
  },
  {
   "cell_type": "code",
   "execution_count": 10,
   "metadata": {},
   "outputs": [
    {
     "data": {
      "image/png": "[encoded data removed]",
      "text/plain": [
       "BufferedImage@5713521c: type = 1 DirectColorModel: rmask=ff0000 gmask=ff00 bmask=ff amask=0 IntegerInterleavedRaster: width = 500 height = 400 #Bands = 3 xOff = 0 yOff = 0 dataOffset[0] 0"
      ]
     },
     "execution_count": 10,
     "metadata": {},
     "output_type": "execute_result"
    }
   ],
   "source": [
    "import org.knowm.xchart.*;\n",
    "\n",
    "double[] xData = new double[] { 0.0, 1.0, 2.0 };\n",
    "double[] yData = new double[] { 2.0, 1.0, 0.0 };\n",
    "\n",
    "// Create Chart\n",
    "XYChart chart = new XYChart(500, 400);\n",
    "chart.setTitle(\"Sample Chart\");\n",
    "chart.setXAxisTitle(\"X\");\n",
    "chart.setXAxisTitle(\"Y\");\n",
    "XYSeries series = chart.addSeries(\"y(x)\", xData, yData);\n",
    "series.setMarker(SeriesMarkers.CIRCLE);\n",
    "\n",
    "BitmapEncoder.getBufferedImage(chart);"
   ]
  },
  {
   "cell_type": "code",
   "execution_count": null,
   "metadata": {},
   "outputs": [],
   "source": []
  }
 ],
 "metadata": {
  "kernelspec": {
   "display_name": "Java",
   "language": "java",
   "name": "java"
  },
  "language_info": {
   "codemirror_mode": "java",
   "file_extension": ".jshell",
   "mimetype": "text/x-java-source",
   "name": "Java",
   "pygments_lexer": "java",
   "version": "11.0.3+7"
  }
 },
 "nbformat": 4,
 "nbformat_minor": 2
}
